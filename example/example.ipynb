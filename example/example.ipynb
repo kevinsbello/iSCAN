{
 "cells": [
  {
   "cell_type": "code",
   "execution_count": 1,
   "id": "0d712ce5",
   "metadata": {},
   "outputs": [],
   "source": [
    "import iscan\n",
    "import numpy as np"
   ]
  },
  {
   "cell_type": "markdown",
   "id": "61cf96f9",
   "metadata": {},
   "source": [
    "## Detect shifted nodes with iSCAN"
   ]
  },
  {
   "cell_type": "code",
   "execution_count": null,
   "id": "7f6599e8",
   "metadata": {},
   "outputs": [],
   "source": [
    "n = 1000\n",
    "d, s0, graph_type = 20, 80, \"ER\"\n",
    "noise_type, noise_std = \"Gaussian\", .5\n",
    "\n",
    "generator = iscan.DataGenerator(d, s0, graph_type, noise_std=noise_std)\n",
    "X, Y = generator.sample(n, num_shifted_nodes=int(.2 * d), change_struct=False)\n",
    "predict_shifted_nodes, order, ratio_dict = iscan.est_node_shifts(X, Y, eta_G=0.001, eta_H=0.001)\n",
    "iscan.node_metrics(generator.shifted_nodes, predict_shifted_nodes, d)"
   ]
  },
  {
   "cell_type": "markdown",
   "id": "28749d22",
   "metadata": {},
   "source": [
    "## Test structural changes using FOCI"
   ]
  },
  {
   "cell_type": "code",
   "execution_count": null,
   "id": "410f3698",
   "metadata": {},
   "outputs": [],
   "source": [
    "n = 1000\n",
    "d, s0, graph_type = 20, 80, \"ER\"\n",
    "noise_type, noise_std = \"Gaussian\", 1\n",
    "\n",
    "generator = iscan.DataGenerator(d, s0, graph_type, noise_std=1)\n",
    "X, Y = generator.sample(n=5000, num_shifted_nodes=int(.2 * d), change_struct=True)\n",
    "true_ddag = np.abs(generator.adj_X - generator.adj_Y, dtype=int)\n",
    "# Note that even though we use the true set of shifted nodes and true ordering below\n",
    "# the f1 performance is not as high as compared to the performance of node shifts detection above\n",
    "# this is due to local parent discovery being done by FOCI which requires additional set of assumptions\n",
    "est_ddag = iscan.est_struct_shifts(X, Y, generator.shifted_nodes, np.arange(d))\n",
    "iscan.ddag_metrics(true_ddag, est_ddag)"
   ]
  }
 ],
 "metadata": {
  "kernelspec": {
   "display_name": "Python 3",
   "language": "python",
   "name": "python3"
  },
  "language_info": {
   "codemirror_mode": {
    "name": "ipython",
    "version": 3
   },
   "file_extension": ".py",
   "mimetype": "text/x-python",
   "name": "python",
   "nbconvert_exporter": "python",
   "pygments_lexer": "ipython3",
   "version": "3.8.16"
  }
 },
 "nbformat": 4,
 "nbformat_minor": 5
}
