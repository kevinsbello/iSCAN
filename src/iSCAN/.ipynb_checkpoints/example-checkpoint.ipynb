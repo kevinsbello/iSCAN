{
 "cells": [
  {
   "cell_type": "code",
   "execution_count": 1,
   "id": "fc6b102b",
   "metadata": {},
   "outputs": [
    {
     "name": "stderr",
     "output_type": "stream",
     "text": [
      "D:\\Anaconda_new\\envs\\bio_traj10\\lib\\site-packages\\tqdm\\auto.py:22: TqdmWarning: IProgress not found. Please update jupyter and ipywidgets. See https://ipywidgets.readthedocs.io/en/stable/user_install.html\n",
      "  from .autonotebook import tqdm as notebook_tqdm\n"
     ]
    }
   ],
   "source": [
    "from utils import *\n",
    "from shifted_nodes import iSCAN\n",
    "from shifted_edges import iSCAN_foci"
   ]
  },
  {
   "cell_type": "code",
   "execution_count": 40,
   "id": "ab5d4c29",
   "metadata": {},
   "outputs": [],
   "source": [
    "n = 500\n",
    "d = 20\n",
    "s0 = 80\n",
    "graph_type = \"ER\"\n",
    "noise_std = 0.5\n",
    "noise_type = \"Gaussian\""
   ]
  },
  {
   "cell_type": "markdown",
   "id": "4bd144fd",
   "metadata": {},
   "source": [
    "## Test iSCAN"
   ]
  },
  {
   "cell_type": "code",
   "execution_count": 41,
   "id": "4a652e63",
   "metadata": {},
   "outputs": [],
   "source": [
    "generator = DataGenerator(n, d, s0, graph_type, noise_std, noise_type)"
   ]
  },
  {
   "cell_type": "code",
   "execution_count": 42,
   "id": "60d729ef",
   "metadata": {},
   "outputs": [],
   "source": [
    "X,Y, true_shifted_nodes, adj = generator.generate_nodes_data(n_shift_node=int(0.2*d))"
   ]
  },
  {
   "cell_type": "code",
   "execution_count": 43,
   "id": "fb690566",
   "metadata": {},
   "outputs": [],
   "source": [
    "order, predict_shifted_node, ratio_dict = iSCAN(X, Y, eta_G=0.001, eta_H=0.001,shifted_thres=2,elbow=True)"
   ]
  },
  {
   "cell_type": "code",
   "execution_count": 44,
   "id": "864147f4",
   "metadata": {},
   "outputs": [
    {
     "name": "stdout",
     "output_type": "stream",
     "text": [
      "Precision is 1.0, recall score is 1.0, and F1 score is 1.0\n"
     ]
    }
   ],
   "source": [
    "eval_result = nodes_metrics(true_shifted_nodes,predict_shifted_node,d)\n",
    "print(\"Precision is {}, recall score is {}, and F1 score is {}\".format(eval_result[0],eval_result[1],eval_result[2]))"
   ]
  },
  {
   "cell_type": "markdown",
   "id": "cb8cb7ab",
   "metadata": {},
   "source": [
    "## Test iSCAN_foci"
   ]
  },
  {
   "cell_type": "code",
   "execution_count": 51,
   "id": "1a7b0682",
   "metadata": {},
   "outputs": [],
   "source": [
    "generator = DataGenerator(n, d, s0, graph_type, noise_std, noise_type)"
   ]
  },
  {
   "cell_type": "code",
   "execution_count": 52,
   "id": "57f7c487",
   "metadata": {},
   "outputs": [],
   "source": [
    "X, Y, true_shifted_nodes,true_ddag = generator.generate_edges_data(0.2)"
   ]
  },
  {
   "cell_type": "code",
   "execution_count": 53,
   "id": "6180db78",
   "metadata": {},
   "outputs": [],
   "source": [
    "topo_order, predict_shifted_node, ratio_dict = iSCAN(X, Y, eta_G=0.001, eta_H=0.001,shifted_thres=2,elbow=False)"
   ]
  },
  {
   "cell_type": "code",
   "execution_count": 54,
   "id": "260e38a0",
   "metadata": {},
   "outputs": [
    {
     "name": "stdout",
     "output_type": "stream",
     "text": [
      "Precision is 1.0, recall score is 1.0, and F1 score is 1.0\n"
     ]
    }
   ],
   "source": [
    "nodes_result = nodes_metrics(true_shifted_nodes,predict_shifted_node,d)\n",
    "print(\"Precision is {}, recall score is {}, and F1 score is {}\".format(nodes_result[0],nodes_result[1],nodes_result[2]))"
   ]
  },
  {
   "cell_type": "code",
   "execution_count": 55,
   "id": "6fce9054",
   "metadata": {},
   "outputs": [],
   "source": [
    "est_ddag = iSCAN_foci(X,Y,predict_shifted_node,topo_order)"
   ]
  },
  {
   "cell_type": "code",
   "execution_count": 56,
   "id": "f782dcf7",
   "metadata": {},
   "outputs": [
    {
     "name": "stdout",
     "output_type": "stream",
     "text": [
      "Precision is 0.5, recall score is 0.9166666666666666, and F1 score is 0.6470588235294118\n"
     ]
    }
   ],
   "source": [
    "ddag_result = ddag_metrics(true_ddag,est_ddag)\n",
    "print(\"Precision is {}, recall score is {}, and F1 score is {}\".format(ddag_result[0],ddag_result[1],ddag_result[2]))"
   ]
  },
  {
   "cell_type": "code",
   "execution_count": null,
   "id": "43b1080e",
   "metadata": {},
   "outputs": [],
   "source": []
  }
 ],
 "metadata": {
  "kernelspec": {
   "display_name": "Python [conda env:bio_traj10]",
   "language": "python",
   "name": "conda-env-bio_traj10-py"
  },
  "language_info": {
   "codemirror_mode": {
    "name": "ipython",
    "version": 3
   },
   "file_extension": ".py",
   "mimetype": "text/x-python",
   "name": "python",
   "nbconvert_exporter": "python",
   "pygments_lexer": "ipython3",
   "version": "3.7.4"
  }
 },
 "nbformat": 4,
 "nbformat_minor": 5
}
