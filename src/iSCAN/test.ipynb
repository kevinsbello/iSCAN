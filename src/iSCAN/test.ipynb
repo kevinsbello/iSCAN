{
 "cells": [
  {
   "cell_type": "code",
   "execution_count": 1,
   "id": "c319dc88",
   "metadata": {},
   "outputs": [
    {
     "name": "stderr",
     "output_type": "stream",
     "text": [
      "D:\\Anaconda_new\\envs\\bio_traj10\\lib\\site-packages\\tqdm\\auto.py:22: TqdmWarning: IProgress not found. Please update jupyter and ipywidgets. See https://ipywidgets.readthedocs.io/en/stable/user_install.html\n",
      "  from .autonotebook import tqdm as notebook_tqdm\n"
     ]
    }
   ],
   "source": [
    "from utils import *\n",
    "from shifted_nodes import iSCAN"
   ]
  },
  {
   "cell_type": "code",
   "execution_count": 28,
   "id": "1b06001b",
   "metadata": {},
   "outputs": [],
   "source": [
    "n = 500\n",
    "d = 10\n",
    "s0 = 40\n",
    "graph_type = \"ER\"\n",
    "noise_std = 0.5\n",
    "noise_type = \"Gaussian\""
   ]
  },
  {
   "cell_type": "code",
   "execution_count": 29,
   "id": "df6f52c5",
   "metadata": {},
   "outputs": [],
   "source": [
    "generator = DataGenerator(n, d, s0, graph_type, noise_std, noise_type)"
   ]
  },
  {
   "cell_type": "code",
   "execution_count": 30,
   "id": "21ff7880",
   "metadata": {},
   "outputs": [],
   "source": [
    "X,Y, true_shifted_nodes, adj = generator.generate_nodes_data(2)"
   ]
  },
  {
   "cell_type": "code",
   "execution_count": 31,
   "id": "5a4002b1",
   "metadata": {},
   "outputs": [],
   "source": [
    "order, predict_shifted_node, ratio_dict = iSCAN(X, Y, eta_G=0.001, eta_H=0.001,shifted_thres=2,elbow=False)"
   ]
  },
  {
   "cell_type": "code",
   "execution_count": 32,
   "id": "58bf3582",
   "metadata": {},
   "outputs": [
    {
     "data": {
      "text/plain": [
       "[1.0, 1.0, 1.0]"
      ]
     },
     "execution_count": 32,
     "metadata": {},
     "output_type": "execute_result"
    }
   ],
   "source": [
    "eval_result = nodes_metrics(true_shifted_nodes,predict_shifted_node,d)\n",
    "print(\"Precision is {}, recall score is {},and F1 score is {}\".formatr())"
   ]
  },
  {
   "cell_type": "code",
   "execution_count": 33,
   "id": "64f580c4",
   "metadata": {},
   "outputs": [
    {
     "data": {
      "text/plain": [
       "array([9, 7])"
      ]
     },
     "execution_count": 33,
     "metadata": {},
     "output_type": "execute_result"
    }
   ],
   "source": [
    "true_shifted_nodes"
   ]
  },
  {
   "cell_type": "code",
   "execution_count": 34,
   "id": "46e7b72a",
   "metadata": {},
   "outputs": [
    {
     "data": {
      "text/plain": [
       "[9, 7]"
      ]
     },
     "execution_count": 34,
     "metadata": {},
     "output_type": "execute_result"
    }
   ],
   "source": [
    "predict_shifted_node"
   ]
  },
  {
   "cell_type": "code",
   "execution_count": null,
   "id": "ce727d3e",
   "metadata": {},
   "outputs": [],
   "source": []
  }
 ],
 "metadata": {
  "kernelspec": {
   "display_name": "Python [conda env:bio_traj10]",
   "language": "python",
   "name": "conda-env-bio_traj10-py"
  },
  "language_info": {
   "codemirror_mode": {
    "name": "ipython",
    "version": 3
   },
   "file_extension": ".py",
   "mimetype": "text/x-python",
   "name": "python",
   "nbconvert_exporter": "python",
   "pygments_lexer": "ipython3",
   "version": "3.7.4"
  }
 },
 "nbformat": 4,
 "nbformat_minor": 5
}
