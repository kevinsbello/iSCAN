{
 "cells": [
  {
   "cell_type": "code",
   "execution_count": 1,
   "id": "b6f8c9f1",
   "metadata": {},
   "outputs": [
    {
     "name": "stderr",
     "output_type": "stream",
     "text": [
      "D:\\Anaconda_new\\envs\\bio_traj10\\lib\\site-packages\\tqdm\\auto.py:22: TqdmWarning: IProgress not found. Please update jupyter and ipywidgets. See https://ipywidgets.readthedocs.io/en/stable/user_install.html\n",
      "  from .autonotebook import tqdm as notebook_tqdm\n"
     ]
    }
   ],
   "source": [
    "import sys\n",
    "sys.path.append(\"../src/iSCAN/\")\n",
    "from utils import *\n",
    "from shifted_nodes import iSCAN\n",
    "from shifted_edges import iSCAN_foci"
   ]
  },
  {
   "cell_type": "code",
   "execution_count": 26,
   "id": "0d712ce5",
   "metadata": {},
   "outputs": [],
   "source": [
    "n = 500\n",
    "d = 20\n",
    "s0 = 80\n",
    "graph_type = \"ER\"\n",
    "noise_std = 0.5\n",
    "noise_type = \"Gaussian\""
   ]
  },
  {
   "cell_type": "markdown",
   "id": "61cf96f9",
   "metadata": {},
   "source": [
    "## Test iSCAN"
   ]
  },
  {
   "cell_type": "code",
   "execution_count": 27,
   "id": "7f6599e8",
   "metadata": {},
   "outputs": [],
   "source": [
    "generator = DataGenerator(n, d, s0, graph_type, noise_std, noise_type)"
   ]
  },
  {
   "cell_type": "code",
   "execution_count": 28,
   "id": "a3c6fe7f",
   "metadata": {},
   "outputs": [],
   "source": [
    "X,Y, true_shifted_nodes, adj = generator.generate_nodes_data(n_shift_node=int(0.2*d))"
   ]
  },
  {
   "cell_type": "code",
   "execution_count": 29,
   "id": "dce741cd",
   "metadata": {},
   "outputs": [],
   "source": [
    "order, predict_shifted_node, ratio_dict = iSCAN(X, Y, eta_G=0.001, eta_H=0.001,shifted_thres=2,elbow=True)"
   ]
  },
  {
   "cell_type": "code",
   "execution_count": 30,
   "id": "bd6848bc",
   "metadata": {},
   "outputs": [
    {
     "name": "stdout",
     "output_type": "stream",
     "text": [
      "Precision is 1.0, recall score is 0.75, and F1 score is 0.8571428571428571\n"
     ]
    }
   ],
   "source": [
    "eval_result = nodes_metrics(true_shifted_nodes,predict_shifted_node,d)\n",
    "print(\"Precision is {}, recall score is {}, and F1 score is {}\".format(eval_result[0],eval_result[1],eval_result[2]))"
   ]
  },
  {
   "cell_type": "markdown",
   "id": "28749d22",
   "metadata": {},
   "source": [
    "## Test iSCAN_foci"
   ]
  },
  {
   "cell_type": "code",
   "execution_count": 31,
   "id": "a8e7f1c0",
   "metadata": {},
   "outputs": [],
   "source": [
    "generator = DataGenerator(n, d, s0, graph_type, noise_std, noise_type)"
   ]
  },
  {
   "cell_type": "code",
   "execution_count": 32,
   "id": "1c5ea06c",
   "metadata": {},
   "outputs": [],
   "source": [
    "X, Y, true_shifted_nodes,true_ddag = generator.generate_edges_data(0.2)"
   ]
  },
  {
   "cell_type": "code",
   "execution_count": 33,
   "id": "6843b957",
   "metadata": {},
   "outputs": [],
   "source": [
    "topo_order, predict_shifted_node, ratio_dict = iSCAN(X, Y, eta_G=0.001, eta_H=0.001,shifted_thres=2,elbow=False)"
   ]
  },
  {
   "cell_type": "code",
   "execution_count": 34,
   "id": "410f3698",
   "metadata": {},
   "outputs": [
    {
     "name": "stdout",
     "output_type": "stream",
     "text": [
      "Precision is 1.0, recall score is 1.0, and F1 score is 1.0\n"
     ]
    }
   ],
   "source": [
    "nodes_result = nodes_metrics(true_shifted_nodes,predict_shifted_node,d)\n",
    "print(\"Precision is {}, recall score is {}, and F1 score is {}\".format(nodes_result[0],nodes_result[1],nodes_result[2]))"
   ]
  },
  {
   "cell_type": "code",
   "execution_count": 35,
   "id": "df337a22",
   "metadata": {},
   "outputs": [],
   "source": [
    "est_ddag = iSCAN_foci(X,Y,predict_shifted_node,topo_order)"
   ]
  },
  {
   "cell_type": "code",
   "execution_count": 36,
   "id": "86f037f1",
   "metadata": {},
   "outputs": [
    {
     "name": "stdout",
     "output_type": "stream",
     "text": [
      "Precision is 0.47058823529411764, recall score is 0.6666666666666666, and F1 score is 0.5517241379310345\n"
     ]
    }
   ],
   "source": [
    "ddag_result = ddag_metrics(true_ddag,est_ddag)\n",
    "print(\"Precision is {}, recall score is {}, and F1 score is {}\".format(ddag_result[0],ddag_result[1],ddag_result[2]))"
   ]
  },
  {
   "cell_type": "code",
   "execution_count": null,
   "id": "9befc5cd",
   "metadata": {},
   "outputs": [],
   "source": []
  }
 ],
 "metadata": {
  "kernelspec": {
   "display_name": "Python [conda env:bio_traj10]",
   "language": "python",
   "name": "conda-env-bio_traj10-py"
  },
  "language_info": {
   "codemirror_mode": {
    "name": "ipython",
    "version": 3
   },
   "file_extension": ".py",
   "mimetype": "text/x-python",
   "name": "python",
   "nbconvert_exporter": "python",
   "pygments_lexer": "ipython3",
   "version": "3.7.4"
  }
 },
 "nbformat": 4,
 "nbformat_minor": 5
}
