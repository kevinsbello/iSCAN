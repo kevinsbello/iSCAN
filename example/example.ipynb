{
 "cells": [
  {
   "cell_type": "code",
   "execution_count": null,
   "id": "0d712ce5",
   "metadata": {},
   "outputs": [],
   "source": [
    "import iscan\n",
    "import numpy as np\n",
    "\n",
    "n = 500\n",
    "d, s0, graph_type = 20, 80, \"ER\"\n",
    "noise_type, noise_std = \"Gaussian\", .5"
   ]
  },
  {
   "cell_type": "markdown",
   "id": "61cf96f9",
   "metadata": {},
   "source": [
    "## Test iSCAN"
   ]
  },
  {
   "cell_type": "code",
   "execution_count": null,
   "id": "7f6599e8",
   "metadata": {},
   "outputs": [],
   "source": [
    "generator = iscan.DataGenerator(d, s0, graph_type, noise_std=0.5)\n",
    "X, Y = generator.sample(1000, int(.2 * d), change_struct=False)\n",
    "predict_shifted_nodes, order, ratio_dict = iscan.est_node_shifts(X, Y, eta_G=0.001, eta_H=0.001)\n",
    "iscan.nodes_metrics(generator.shifted_nodes, predict_shifted_nodes, d)"
   ]
  },
  {
   "cell_type": "markdown",
   "id": "28749d22",
   "metadata": {},
   "source": [
    "## Test iSCAN_foci"
   ]
  },
  {
   "cell_type": "code",
   "execution_count": null,
   "id": "410f3698",
   "metadata": {},
   "outputs": [],
   "source": [
    "generator = iscan.DataGenerator(d, s0, graph_type, noise_std=0.5)\n",
    "X, Y = generator.sample(1000, int(.2 * d), change_struct=False)\n",
    "predict_shifted_nodes, order, ratio_dict = iscan.est_node_shifts(X, Y, eta_G=0.001, eta_H=0.001)\n",
    "iscan.nodes_metrics(generator.shifted_nodes, predict_shifted_nodes, d)"
   ]
  },
  {
   "cell_type": "code",
   "execution_count": 35,
   "id": "df337a22",
   "metadata": {},
   "outputs": [],
   "source": [
    "true_ddag = np.abs(generator.adj_X - generator.adj_Y, dtype=int)\n",
    "est_ddag = iscan.est_struct_shifts(X, Y, predict_shifted_nodes, order)\n",
    "iscan.ddag_metrics(true_ddag, est_ddag)"
   ]
  }
 ],
 "metadata": {
  "kernelspec": {
   "display_name": "Python 3",
   "language": "python",
   "name": "python3"
  },
  "language_info": {
   "codemirror_mode": {
    "name": "ipython",
    "version": 3
   },
   "file_extension": ".py",
   "mimetype": "text/x-python",
   "name": "python",
   "nbconvert_exporter": "python",
   "pygments_lexer": "ipython3",
   "version": "3.8.16"
  }
 },
 "nbformat": 4,
 "nbformat_minor": 5
}
