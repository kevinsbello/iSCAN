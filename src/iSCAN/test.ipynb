{
 "cells": [
  {
   "cell_type": "code",
   "execution_count": 1,
   "id": "919111b7",
   "metadata": {},
   "outputs": [
    {
     "name": "stderr",
     "output_type": "stream",
     "text": [
      "D:\\Anaconda_new\\envs\\bio_traj10\\lib\\site-packages\\tqdm\\auto.py:22: TqdmWarning: IProgress not found. Please update jupyter and ipywidgets. See https://ipywidgets.readthedocs.io/en/stable/user_install.html\n",
      "  from .autonotebook import tqdm as notebook_tqdm\n"
     ]
    }
   ],
   "source": [
    "from utils import *"
   ]
  },
  {
   "cell_type": "code",
   "execution_count": 2,
   "id": "ea1419ce",
   "metadata": {},
   "outputs": [],
   "source": [
    "n = 100\n",
    "d = 10\n",
    "s0 = 20\n",
    "graph_type = \"ER\"\n",
    "noise_std = 1\n",
    "noise_type = \"Gaussian\""
   ]
  },
  {
   "cell_type": "code",
   "execution_count": 3,
   "id": "407cf14e",
   "metadata": {},
   "outputs": [],
   "source": [
    "generator = DataGenerator(n, d, s0, graph_type, noise_std, noise_type)"
   ]
  },
  {
   "cell_type": "code",
   "execution_count": 4,
   "id": "9892363a",
   "metadata": {},
   "outputs": [],
   "source": [
    "X, Y, ddag = generator.generate_edges_data(0.2)"
   ]
  },
  {
   "cell_type": "code",
   "execution_count": 5,
   "id": "7efb09ac",
   "metadata": {},
   "outputs": [
    {
     "data": {
      "text/plain": [
       "array([[0, 0, 0, 0, 0, 0, 1, 0, 0, 0],\n",
       "       [0, 0, 0, 0, 0, 0, 0, 0, 0, 0],\n",
       "       [0, 0, 0, 0, 0, 0, 0, 0, 0, 1],\n",
       "       [0, 0, 0, 0, 0, 0, 1, 0, 0, 0],\n",
       "       [0, 0, 0, 0, 0, 0, 1, 0, 0, 0],\n",
       "       [0, 0, 0, 0, 0, 0, 0, 0, 0, 1],\n",
       "       [0, 0, 0, 0, 0, 0, 0, 0, 0, 0],\n",
       "       [0, 0, 0, 0, 0, 0, 0, 0, 0, 1],\n",
       "       [0, 0, 0, 0, 0, 0, 0, 0, 0, 0],\n",
       "       [0, 0, 0, 0, 0, 0, 0, 0, 0, 0]])"
      ]
     },
     "execution_count": 5,
     "metadata": {},
     "output_type": "execute_result"
    }
   ],
   "source": [
    "ddag"
   ]
  },
  {
   "cell_type": "code",
   "execution_count": 6,
   "id": "341935d8",
   "metadata": {},
   "outputs": [
    {
     "data": {
      "text/plain": [
       "array([[0, 0, 0, 0, 0, 1, 1, 0, 0, 0],\n",
       "       [0, 0, 1, 1, 1, 1, 1, 0, 0, 0],\n",
       "       [0, 0, 0, 1, 1, 1, 0, 0, 1, 1],\n",
       "       [0, 0, 0, 0, 1, 0, 1, 0, 1, 0],\n",
       "       [0, 0, 0, 0, 0, 1, 1, 0, 0, 0],\n",
       "       [0, 0, 0, 0, 0, 0, 0, 0, 0, 1],\n",
       "       [0, 0, 0, 0, 0, 0, 0, 0, 1, 0],\n",
       "       [0, 0, 0, 0, 0, 0, 0, 0, 0, 1],\n",
       "       [0, 0, 0, 0, 0, 0, 0, 0, 0, 0],\n",
       "       [0, 0, 0, 0, 0, 0, 0, 0, 0, 0]])"
      ]
     },
     "execution_count": 6,
     "metadata": {},
     "output_type": "execute_result"
    }
   ],
   "source": [
    "generator.adjacency"
   ]
  },
  {
   "cell_type": "code",
   "execution_count": 8,
   "id": "521acd35",
   "metadata": {},
   "outputs": [
    {
     "data": {
      "text/plain": [
       "tensor([[ True,  True, False, False, False, False, False,  True, False, False],\n",
       "        [ True,  True, False, False, False, False, False,  True, False, False],\n",
       "        [ True,  True, False, False, False, False, False,  True, False, False],\n",
       "        [ True,  True, False, False, False, False, False,  True, False, False],\n",
       "        [ True,  True, False, False, False, False, False,  True, False, False],\n",
       "        [ True,  True, False, False, False, False, False,  True, False, False],\n",
       "        [ True,  True, False, False, False, False, False,  True, False, False],\n",
       "        [ True,  True, False, False, False, False, False,  True, False, False],\n",
       "        [ True,  True, False, False, False, False, False,  True, False, False],\n",
       "        [ True,  True, False, False, False, False, False,  True, False, False],\n",
       "        [ True,  True, False, False, False, False, False,  True, False, False],\n",
       "        [ True,  True, False, False, False, False, False,  True, False, False],\n",
       "        [ True,  True, False, False, False, False, False,  True, False, False],\n",
       "        [ True,  True, False, False, False, False, False,  True, False, False],\n",
       "        [ True,  True, False, False, False, False, False,  True, False, False],\n",
       "        [ True,  True, False, False, False, False, False,  True, False, False],\n",
       "        [ True,  True, False, False, False, False, False,  True, False, False],\n",
       "        [ True,  True, False, False, False, False, False,  True, False, False],\n",
       "        [ True,  True, False, False, False, False, False,  True, False, False],\n",
       "        [ True,  True, False, False, False, False, False,  True, False, False],\n",
       "        [ True,  True, False, False, False, False, False,  True, False, False],\n",
       "        [ True,  True, False, False, False, False, False,  True, False, False],\n",
       "        [ True,  True, False, False, False, False, False,  True, False, False],\n",
       "        [ True,  True, False, False, False, False, False,  True, False, False],\n",
       "        [ True,  True, False, False, False, False, False,  True, False, False],\n",
       "        [ True,  True, False, False, False, False, False,  True, False, False],\n",
       "        [ True,  True, False, False, False, False, False,  True, False, False],\n",
       "        [ True,  True, False, False, False, False, False,  True, False, False],\n",
       "        [ True,  True, False, False, False, False, False,  True, False, False],\n",
       "        [ True,  True, False, False, False, False, False,  True, False, False],\n",
       "        [ True,  True, False, False, False, False, False,  True, False, False],\n",
       "        [ True,  True, False, False, False, False, False,  True, False, False],\n",
       "        [ True,  True, False, False, False, False, False,  True, False, False],\n",
       "        [ True,  True, False, False, False, False, False,  True, False, False],\n",
       "        [ True,  True, False, False, False, False, False,  True, False, False],\n",
       "        [ True,  True, False, False, False, False, False,  True, False, False],\n",
       "        [ True,  True, False, False, False, False, False,  True, False, False],\n",
       "        [ True,  True, False, False, False, False, False,  True, False, False],\n",
       "        [ True,  True, False, False, False, False, False,  True, False, False],\n",
       "        [ True,  True, False, False, False, False, False,  True, False, False],\n",
       "        [ True,  True, False, False, False, False, False,  True, False, False],\n",
       "        [ True,  True, False, False, False, False, False,  True, False, False],\n",
       "        [ True,  True, False, False, False, False, False,  True, False, False],\n",
       "        [ True,  True, False, False, False, False, False,  True, False, False],\n",
       "        [ True,  True, False, False, False, False, False,  True, False, False],\n",
       "        [ True,  True, False, False, False, False, False,  True, False, False],\n",
       "        [ True,  True, False, False, False, False, False,  True, False, False],\n",
       "        [ True,  True, False, False, False, False, False,  True, False, False],\n",
       "        [ True,  True, False, False, False, False, False,  True, False, False],\n",
       "        [ True,  True, False, False, False, False, False,  True, False, False],\n",
       "        [ True,  True, False, False, False, False, False,  True, False, False],\n",
       "        [ True,  True, False, False, False, False, False,  True, False, False],\n",
       "        [ True,  True, False, False, False, False, False,  True, False, False],\n",
       "        [ True,  True, False, False, False, False, False,  True, False, False],\n",
       "        [ True,  True, False, False, False, False, False,  True, False, False],\n",
       "        [ True,  True, False, False, False, False, False,  True, False, False],\n",
       "        [ True,  True, False, False, False, False, False,  True, False, False],\n",
       "        [ True,  True, False, False, False, False, False,  True, False, False],\n",
       "        [ True,  True, False, False, False, False, False,  True, False, False],\n",
       "        [ True,  True, False, False, False, False, False,  True, False, False],\n",
       "        [ True,  True, False, False, False, False, False,  True, False, False],\n",
       "        [ True,  True, False, False, False, False, False,  True, False, False],\n",
       "        [ True,  True, False, False, False, False, False,  True, False, False],\n",
       "        [ True,  True, False, False, False, False, False,  True, False, False],\n",
       "        [ True,  True, False, False, False, False, False,  True, False, False],\n",
       "        [ True,  True, False, False, False, False, False,  True, False, False],\n",
       "        [ True,  True, False, False, False, False, False,  True, False, False],\n",
       "        [ True,  True, False, False, False, False, False,  True, False, False],\n",
       "        [ True,  True, False, False, False, False, False,  True, False, False],\n",
       "        [ True,  True, False, False, False, False, False,  True, False, False],\n",
       "        [ True,  True, False, False, False, False, False,  True, False, False],\n",
       "        [ True,  True, False, False, False, False, False,  True, False, False],\n",
       "        [ True,  True, False, False, False, False, False,  True, False, False],\n",
       "        [ True,  True, False, False, False, False, False,  True, False, False],\n",
       "        [ True,  True, False, False, False, False, False,  True, False, False],\n",
       "        [ True,  True, False, False, False, False, False,  True, False, False],\n",
       "        [ True,  True, False, False, False, False, False,  True, False, False],\n",
       "        [ True,  True, False, False, False, False, False,  True, False, False],\n",
       "        [ True,  True, False, False, False, False, False,  True, False, False],\n",
       "        [ True,  True, False, False, False, False, False,  True, False, False],\n",
       "        [ True,  True, False, False, False, False, False,  True, False, False],\n",
       "        [ True,  True, False, False, False, False, False,  True, False, False],\n",
       "        [ True,  True, False, False, False, False, False,  True, False, False],\n",
       "        [ True,  True, False, False, False, False, False,  True, False, False],\n",
       "        [ True,  True, False, False, False, False, False,  True, False, False],\n",
       "        [ True,  True, False, False, False, False, False,  True, False, False],\n",
       "        [ True,  True, False, False, False, False, False,  True, False, False],\n",
       "        [ True,  True, False, False, False, False, False,  True, False, False],\n",
       "        [ True,  True, False, False, False, False, False,  True, False, False],\n",
       "        [ True,  True, False, False, False, False, False,  True, False, False],\n",
       "        [ True,  True, False, False, False, False, False,  True, False, False],\n",
       "        [ True,  True, False, False, False, False, False,  True, False, False],\n",
       "        [ True,  True, False, False, False, False, False,  True, False, False],\n",
       "        [ True,  True, False, False, False, False, False,  True, False, False],\n",
       "        [ True,  True, False, False, False, False, False,  True, False, False],\n",
       "        [ True,  True, False, False, False, False, False,  True, False, False],\n",
       "        [ True,  True, False, False, False, False, False,  True, False, False],\n",
       "        [ True,  True, False, False, False, False, False,  True, False, False],\n",
       "        [ True,  True, False, False, False, False, False,  True, False, False],\n",
       "        [ True,  True, False, False, False, False, False,  True, False, False]])"
      ]
     },
     "execution_count": 8,
     "metadata": {},
     "output_type": "execute_result"
    }
   ],
   "source": [
    "X == generator.noise_X"
   ]
  },
  {
   "cell_type": "code",
   "execution_count": 10,
   "id": "32623017",
   "metadata": {},
   "outputs": [
    {
     "data": {
      "text/plain": [
       "array([[0, 0, 0, 0, 0, 1, 0, 0, 0, 0],\n",
       "       [0, 0, 1, 1, 1, 1, 1, 0, 0, 0],\n",
       "       [0, 0, 0, 1, 1, 1, 0, 0, 1, 0],\n",
       "       [0, 0, 0, 0, 1, 0, 0, 0, 1, 0],\n",
       "       [0, 0, 0, 0, 0, 1, 0, 0, 0, 0],\n",
       "       [0, 0, 0, 0, 0, 0, 0, 0, 0, 0],\n",
       "       [0, 0, 0, 0, 0, 0, 0, 0, 1, 0],\n",
       "       [0, 0, 0, 0, 0, 0, 0, 0, 0, 0],\n",
       "       [0, 0, 0, 0, 0, 0, 0, 0, 0, 0],\n",
       "       [0, 0, 0, 0, 0, 0, 0, 0, 0, 0]])"
      ]
     },
     "execution_count": 10,
     "metadata": {},
     "output_type": "execute_result"
    }
   ],
   "source": [
    "generator.adjacency_del"
   ]
  },
  {
   "cell_type": "code",
   "execution_count": 9,
   "id": "6842a804",
   "metadata": {},
   "outputs": [
    {
     "data": {
      "text/plain": [
       "tensor([[ True,  True, False, False, False, False, False,  True, False,  True],\n",
       "        [ True,  True, False, False, False, False, False,  True, False,  True],\n",
       "        [ True,  True, False, False, False, False, False,  True, False,  True],\n",
       "        [ True,  True, False, False, False, False, False,  True, False,  True],\n",
       "        [ True,  True, False, False, False, False, False,  True, False,  True],\n",
       "        [ True,  True, False, False, False, False, False,  True, False,  True],\n",
       "        [ True,  True, False, False, False, False, False,  True, False,  True],\n",
       "        [ True,  True, False, False, False, False, False,  True, False,  True],\n",
       "        [ True,  True, False, False, False, False, False,  True, False,  True],\n",
       "        [ True,  True, False, False, False, False, False,  True, False,  True],\n",
       "        [ True,  True, False, False, False, False, False,  True, False,  True],\n",
       "        [ True,  True, False, False, False, False, False,  True, False,  True],\n",
       "        [ True,  True, False, False, False, False, False,  True, False,  True],\n",
       "        [ True,  True, False, False, False, False, False,  True, False,  True],\n",
       "        [ True,  True, False, False, False, False, False,  True, False,  True],\n",
       "        [ True,  True, False, False, False, False, False,  True, False,  True],\n",
       "        [ True,  True, False, False, False, False, False,  True, False,  True],\n",
       "        [ True,  True, False, False, False, False, False,  True, False,  True],\n",
       "        [ True,  True, False, False, False, False, False,  True, False,  True],\n",
       "        [ True,  True, False, False, False, False, False,  True, False,  True],\n",
       "        [ True,  True, False, False, False, False, False,  True, False,  True],\n",
       "        [ True,  True, False, False, False, False, False,  True, False,  True],\n",
       "        [ True,  True, False, False, False, False, False,  True, False,  True],\n",
       "        [ True,  True, False, False, False, False, False,  True, False,  True],\n",
       "        [ True,  True, False, False, False, False, False,  True, False,  True],\n",
       "        [ True,  True, False, False, False, False, False,  True, False,  True],\n",
       "        [ True,  True, False, False, False, False, False,  True, False,  True],\n",
       "        [ True,  True, False, False, False, False, False,  True, False,  True],\n",
       "        [ True,  True, False, False, False, False, False,  True, False,  True],\n",
       "        [ True,  True, False, False, False, False, False,  True, False,  True],\n",
       "        [ True,  True, False, False, False, False, False,  True, False,  True],\n",
       "        [ True,  True, False, False, False, False, False,  True, False,  True],\n",
       "        [ True,  True, False, False, False, False, False,  True, False,  True],\n",
       "        [ True,  True, False, False, False, False, False,  True, False,  True],\n",
       "        [ True,  True, False, False, False, False, False,  True, False,  True],\n",
       "        [ True,  True, False, False, False, False, False,  True, False,  True],\n",
       "        [ True,  True, False, False, False, False, False,  True, False,  True],\n",
       "        [ True,  True, False, False, False, False, False,  True, False,  True],\n",
       "        [ True,  True, False, False, False, False, False,  True, False,  True],\n",
       "        [ True,  True, False, False, False, False, False,  True, False,  True],\n",
       "        [ True,  True, False, False, False, False, False,  True, False,  True],\n",
       "        [ True,  True, False, False, False, False, False,  True, False,  True],\n",
       "        [ True,  True, False, False, False, False, False,  True, False,  True],\n",
       "        [ True,  True, False, False, False, False, False,  True, False,  True],\n",
       "        [ True,  True, False, False, False, False, False,  True, False,  True],\n",
       "        [ True,  True, False, False, False, False, False,  True, False,  True],\n",
       "        [ True,  True, False, False, False, False, False,  True, False,  True],\n",
       "        [ True,  True, False, False, False, False, False,  True, False,  True],\n",
       "        [ True,  True, False, False, False, False, False,  True, False,  True],\n",
       "        [ True,  True, False, False, False, False, False,  True, False,  True],\n",
       "        [ True,  True, False, False, False, False, False,  True, False,  True],\n",
       "        [ True,  True, False, False, False, False, False,  True, False,  True],\n",
       "        [ True,  True, False, False, False, False, False,  True, False,  True],\n",
       "        [ True,  True, False, False, False, False, False,  True, False,  True],\n",
       "        [ True,  True, False, False, False, False, False,  True, False,  True],\n",
       "        [ True,  True, False, False, False, False, False,  True, False,  True],\n",
       "        [ True,  True, False, False, False, False, False,  True, False,  True],\n",
       "        [ True,  True, False, False, False, False, False,  True, False,  True],\n",
       "        [ True,  True, False, False, False, False, False,  True, False,  True],\n",
       "        [ True,  True, False, False, False, False, False,  True, False,  True],\n",
       "        [ True,  True, False, False, False, False, False,  True, False,  True],\n",
       "        [ True,  True, False, False, False, False, False,  True, False,  True],\n",
       "        [ True,  True, False, False, False, False, False,  True, False,  True],\n",
       "        [ True,  True, False, False, False, False, False,  True, False,  True],\n",
       "        [ True,  True, False, False, False, False, False,  True, False,  True],\n",
       "        [ True,  True, False, False, False, False, False,  True, False,  True],\n",
       "        [ True,  True, False, False, False, False, False,  True, False,  True],\n",
       "        [ True,  True, False, False, False, False, False,  True, False,  True],\n",
       "        [ True,  True, False, False, False, False, False,  True, False,  True],\n",
       "        [ True,  True, False, False, False, False, False,  True, False,  True],\n",
       "        [ True,  True, False, False, False, False, False,  True, False,  True],\n",
       "        [ True,  True, False, False, False, False, False,  True, False,  True],\n",
       "        [ True,  True, False, False, False, False, False,  True, False,  True],\n",
       "        [ True,  True, False, False, False, False, False,  True, False,  True],\n",
       "        [ True,  True, False, False, False, False, False,  True, False,  True],\n",
       "        [ True,  True, False, False, False, False, False,  True, False,  True],\n",
       "        [ True,  True, False, False, False, False, False,  True, False,  True],\n",
       "        [ True,  True, False, False, False, False, False,  True, False,  True],\n",
       "        [ True,  True, False, False, False, False, False,  True, False,  True],\n",
       "        [ True,  True, False, False, False, False, False,  True, False,  True],\n",
       "        [ True,  True, False, False, False, False, False,  True, False,  True],\n",
       "        [ True,  True, False, False, False, False, False,  True, False,  True],\n",
       "        [ True,  True, False, False, False, False, False,  True, False,  True],\n",
       "        [ True,  True, False, False, False, False, False,  True, False,  True],\n",
       "        [ True,  True, False, False, False, False, False,  True, False,  True],\n",
       "        [ True,  True, False, False, False, False, False,  True, False,  True],\n",
       "        [ True,  True, False, False, False, False, False,  True, False,  True],\n",
       "        [ True,  True, False, False, False, False, False,  True, False,  True],\n",
       "        [ True,  True, False, False, False, False, False,  True, False,  True],\n",
       "        [ True,  True, False, False, False, False, False,  True, False,  True],\n",
       "        [ True,  True, False, False, False, False, False,  True, False,  True],\n",
       "        [ True,  True, False, False, False, False, False,  True, False,  True],\n",
       "        [ True,  True, False, False, False, False, False,  True, False,  True],\n",
       "        [ True,  True, False, False, False, False, False,  True, False,  True],\n",
       "        [ True,  True, False, False, False, False, False,  True, False,  True],\n",
       "        [ True,  True, False, False, False, False, False,  True, False,  True],\n",
       "        [ True,  True, False, False, False, False, False,  True, False,  True],\n",
       "        [ True,  True, False, False, False, False, False,  True, False,  True],\n",
       "        [ True,  True, False, False, False, False, False,  True, False,  True],\n",
       "        [ True,  True, False, False, False, False, False,  True, False,  True]])"
      ]
     },
     "execution_count": 9,
     "metadata": {},
     "output_type": "execute_result"
    }
   ],
   "source": [
    "Y == generator.noise_Y"
   ]
  },
  {
   "cell_type": "code",
   "execution_count": null,
   "id": "f9a62b05",
   "metadata": {},
   "outputs": [],
   "source": []
  },
  {
   "cell_type": "code",
   "execution_count": null,
   "id": "50690569",
   "metadata": {},
   "outputs": [],
   "source": []
  }
 ],
 "metadata": {
  "kernelspec": {
   "display_name": "Python [conda env:bio_traj10]",
   "language": "python",
   "name": "conda-env-bio_traj10-py"
  },
  "language_info": {
   "codemirror_mode": {
    "name": "ipython",
    "version": 3
   },
   "file_extension": ".py",
   "mimetype": "text/x-python",
   "name": "python",
   "nbconvert_exporter": "python",
   "pygments_lexer": "ipython3",
   "version": "3.7.4"
  }
 },
 "nbformat": 4,
 "nbformat_minor": 5
}
