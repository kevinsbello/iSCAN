{
 "cells": [
  {
   "cell_type": "code",
   "execution_count": 1,
   "id": "783a55a8",
   "metadata": {},
   "outputs": [
    {
     "name": "stderr",
     "output_type": "stream",
     "text": [
      "D:\\Anaconda_new\\envs\\bio_traj10\\lib\\site-packages\\tqdm\\auto.py:22: TqdmWarning: IProgress not found. Please update jupyter and ipywidgets. See https://ipywidgets.readthedocs.io/en/stable/user_install.html\n",
      "  from .autonotebook import tqdm as notebook_tqdm\n"
     ]
    }
   ],
   "source": [
    "from utils import *\n",
    "from shifted_nodes import iSCAN"
   ]
  },
  {
   "cell_type": "code",
   "execution_count": 42,
   "id": "cac8cefc",
   "metadata": {},
   "outputs": [],
   "source": [
    "n = 500\n",
    "d = 10\n",
    "s0 = 40\n",
    "graph_type = \"ER\"\n",
    "noise_std = 0.5\n",
    "noise_type = \"Gaussian\""
   ]
  },
  {
   "cell_type": "code",
   "execution_count": 43,
   "id": "064f4ab2",
   "metadata": {},
   "outputs": [],
   "source": [
    "generator = DataGenerator(n, d, s0, graph_type, noise_std, noise_type)"
   ]
  },
  {
   "cell_type": "code",
   "execution_count": 44,
   "id": "cf3a50c1",
   "metadata": {},
   "outputs": [],
   "source": [
    "X,Y, true_shifted_nodes, adj = generator.generate_nodes_data(2)"
   ]
  },
  {
   "cell_type": "code",
   "execution_count": 45,
   "id": "315e0654",
   "metadata": {},
   "outputs": [],
   "source": [
    "order, predict_shifted_node, ratio_dict = iSCAN(X, Y, eta_G=0.001, eta_H=0.001,shifted_thres=2,elbow=False)"
   ]
  },
  {
   "cell_type": "code",
   "execution_count": 46,
   "id": "81db2d22",
   "metadata": {},
   "outputs": [
    {
     "name": "stdout",
     "output_type": "stream",
     "text": [
      "Precision is 1.0, recall score is 1.0, and F1 score is 1.0\n"
     ]
    }
   ],
   "source": [
    "eval_result = nodes_metrics(true_shifted_nodes,predict_shifted_node,d)\n",
    "print(\"Precision is {}, recall score is {}, and F1 score is {}\".format(eval_result[0],eval_result[1],eval_result[2]))"
   ]
  },
  {
   "cell_type": "code",
   "execution_count": null,
   "id": "91b572f0",
   "metadata": {},
   "outputs": [],
   "source": []
  }
 ],
 "metadata": {
  "kernelspec": {
   "display_name": "Python [conda env:bio_traj10]",
   "language": "python",
   "name": "conda-env-bio_traj10-py"
  },
  "language_info": {
   "codemirror_mode": {
    "name": "ipython",
    "version": 3
   },
   "file_extension": ".py",
   "mimetype": "text/x-python",
   "name": "python",
   "nbconvert_exporter": "python",
   "pygments_lexer": "ipython3",
   "version": "3.7.4"
  }
 },
 "nbformat": 4,
 "nbformat_minor": 5
}
