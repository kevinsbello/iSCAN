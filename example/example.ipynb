{
 "cells": [
  {
   "cell_type": "code",
   "execution_count": 2,
   "id": "0d712ce5",
   "metadata": {},
   "outputs": [
    {
     "name": "stderr",
     "output_type": "stream",
     "text": [
      "Unable to determine R home: [Errno 2] No such file or directory: 'R'\n"
     ]
    },
    {
     "ename": "ValueError",
     "evalue": "r_home is None. Try python -m rpy2.situation",
     "output_type": "error",
     "traceback": [
      "\u001b[0;31m---------------------------------------------------------------------------\u001b[0m",
      "\u001b[0;31mValueError\u001b[0m                                Traceback (most recent call last)",
      "\u001b[1;32m/home/bellok/iSCAN/example/example.ipynb Cell 1\u001b[0m line \u001b[0;36m1\n\u001b[0;32m----> <a href='vscode-notebook-cell://ssh-remote%2Bmidway3.rcc.uchicago.edu/home/bellok/iSCAN/example/example.ipynb#W1sdnNjb2RlLXJlbW90ZQ%3D%3D?line=0'>1</a>\u001b[0m \u001b[39mimport\u001b[39;00m \u001b[39miscan\u001b[39;00m\n\u001b[1;32m      <a href='vscode-notebook-cell://ssh-remote%2Bmidway3.rcc.uchicago.edu/home/bellok/iSCAN/example/example.ipynb#W1sdnNjb2RlLXJlbW90ZQ%3D%3D?line=2'>3</a>\u001b[0m n \u001b[39m=\u001b[39m \u001b[39m500\u001b[39m\n\u001b[1;32m      <a href='vscode-notebook-cell://ssh-remote%2Bmidway3.rcc.uchicago.edu/home/bellok/iSCAN/example/example.ipynb#W1sdnNjb2RlLXJlbW90ZQ%3D%3D?line=3'>4</a>\u001b[0m d \u001b[39m=\u001b[39m \u001b[39m20\u001b[39m\n",
      "File \u001b[0;32m~/iSCAN/example/../src/iscan/__init__.py:4\u001b[0m\n\u001b[1;32m      2\u001b[0m \u001b[39mfrom\u001b[39;00m \u001b[39m.\u001b[39;00m\u001b[39mutils\u001b[39;00m \u001b[39mimport\u001b[39;00m DataGenerator, ddag_metrics, node_metrics, set_seed\n\u001b[1;32m      3\u001b[0m \u001b[39mfrom\u001b[39;00m \u001b[39m.\u001b[39;00m\u001b[39mscore_estimator\u001b[39;00m \u001b[39mimport\u001b[39;00m stein_hess\n\u001b[0;32m----> 4\u001b[0m \u001b[39mfrom\u001b[39;00m \u001b[39m.\u001b[39;00m\u001b[39mshifted_edges\u001b[39;00m \u001b[39mimport\u001b[39;00m est_struct_shifts\n",
      "File \u001b[0;32m~/iSCAN/example/../src/iscan/shifted_edges.py:5\u001b[0m\n\u001b[1;32m      2\u001b[0m \u001b[39mimport\u001b[39;00m \u001b[39mnumpy\u001b[39;00m \u001b[39mas\u001b[39;00m \u001b[39mnp\u001b[39;00m\n\u001b[1;32m      3\u001b[0m \u001b[39mfrom\u001b[39;00m \u001b[39mtyping\u001b[39;00m \u001b[39mimport\u001b[39;00m Union\n\u001b[0;32m----> 5\u001b[0m \u001b[39mimport\u001b[39;00m \u001b[39mrpy2\u001b[39;00m\u001b[39m.\u001b[39;00m\u001b[39mrobjects\u001b[39;00m \u001b[39mas\u001b[39;00m \u001b[39mro\u001b[39;00m\n\u001b[1;32m      6\u001b[0m \u001b[39mimport\u001b[39;00m \u001b[39mrpy2\u001b[39;00m\u001b[39m.\u001b[39;00m\u001b[39mrobjects\u001b[39;00m\u001b[39m.\u001b[39;00m\u001b[39mnumpy2ri\u001b[39;00m\n\u001b[1;32m      7\u001b[0m \u001b[39mfrom\u001b[39;00m \u001b[39mrpy2\u001b[39;00m\u001b[39m.\u001b[39;00m\u001b[39mrobjects\u001b[39;00m\u001b[39m.\u001b[39;00m\u001b[39mpackages\u001b[39;00m \u001b[39mimport\u001b[39;00m importr\n",
      "File \u001b[0;32m/project2/naragam/bellok/anaconda/msd/lib/python3.8/site-packages/rpy2/robjects/__init__.py:16\u001b[0m\n\u001b[1;32m     14\u001b[0m \u001b[39mimport\u001b[39;00m \u001b[39mtypes\u001b[39;00m\n\u001b[1;32m     15\u001b[0m \u001b[39mimport\u001b[39;00m \u001b[39mtyping\u001b[39;00m\n\u001b[0;32m---> 16\u001b[0m \u001b[39mimport\u001b[39;00m \u001b[39mrpy2\u001b[39;00m\u001b[39m.\u001b[39;00m\u001b[39mrinterface\u001b[39;00m \u001b[39mas\u001b[39;00m \u001b[39mrinterface\u001b[39;00m\n\u001b[1;32m     17\u001b[0m \u001b[39mimport\u001b[39;00m \u001b[39mrpy2\u001b[39;00m\u001b[39m.\u001b[39;00m\u001b[39mrinterface_lib\u001b[39;00m\u001b[39m.\u001b[39;00m\u001b[39membedded\u001b[39;00m\n\u001b[1;32m     18\u001b[0m \u001b[39mimport\u001b[39;00m \u001b[39mrpy2\u001b[39;00m\u001b[39m.\u001b[39;00m\u001b[39mrinterface_lib\u001b[39;00m\u001b[39m.\u001b[39;00m\u001b[39mopenrlib\u001b[39;00m\n",
      "File \u001b[0;32m/project2/naragam/bellok/anaconda/msd/lib/python3.8/site-packages/rpy2/rinterface.py:16\u001b[0m\n\u001b[1;32m     14\u001b[0m \u001b[39mimport\u001b[39;00m \u001b[39mwarnings\u001b[39;00m\n\u001b[1;32m     15\u001b[0m \u001b[39mfrom\u001b[39;00m \u001b[39mtyping\u001b[39;00m \u001b[39mimport\u001b[39;00m Union\n\u001b[0;32m---> 16\u001b[0m \u001b[39mfrom\u001b[39;00m \u001b[39mrpy2\u001b[39;00m\u001b[39m.\u001b[39;00m\u001b[39mrinterface_lib\u001b[39;00m \u001b[39mimport\u001b[39;00m openrlib\n\u001b[1;32m     17\u001b[0m \u001b[39mimport\u001b[39;00m \u001b[39mrpy2\u001b[39;00m\u001b[39m.\u001b[39;00m\u001b[39mrinterface_lib\u001b[39;00m\u001b[39m.\u001b[39;00m\u001b[39m_rinterface_capi\u001b[39;00m \u001b[39mas\u001b[39;00m \u001b[39m_rinterface\u001b[39;00m\n\u001b[1;32m     18\u001b[0m \u001b[39mimport\u001b[39;00m \u001b[39mrpy2\u001b[39;00m\u001b[39m.\u001b[39;00m\u001b[39mrinterface_lib\u001b[39;00m\u001b[39m.\u001b[39;00m\u001b[39membedded\u001b[39;00m \u001b[39mas\u001b[39;00m \u001b[39membedded\u001b[39;00m\n",
      "File \u001b[0;32m/project2/naragam/bellok/anaconda/msd/lib/python3.8/site-packages/rpy2/rinterface_lib/openrlib.py:58\u001b[0m\n\u001b[1;32m     56\u001b[0m     rlib \u001b[39m=\u001b[39m _rinterface_cffi\u001b[39m.\u001b[39mlib\n\u001b[1;32m     57\u001b[0m \u001b[39melse\u001b[39;00m:\n\u001b[0;32m---> 58\u001b[0m     rlib \u001b[39m=\u001b[39m _dlopen_rlib(R_HOME)\n\u001b[1;32m     61\u001b[0m \u001b[39m# R macros and functions\u001b[39;00m\n\u001b[1;32m     62\u001b[0m \u001b[39mdef\u001b[39;00m \u001b[39m_get_symbol_or_fallback\u001b[39m(symbol: \u001b[39mstr\u001b[39m, fallback: typing\u001b[39m.\u001b[39mAny):\n",
      "File \u001b[0;32m/project2/naragam/bellok/anaconda/msd/lib/python3.8/site-packages/rpy2/rinterface_lib/openrlib.py:45\u001b[0m, in \u001b[0;36m_dlopen_rlib\u001b[0;34m(r_home)\u001b[0m\n\u001b[1;32m     41\u001b[0m \u001b[39m\u001b[39m\u001b[39m\"\"\"Open R's shared C library.\u001b[39;00m\n\u001b[1;32m     42\u001b[0m \n\u001b[1;32m     43\u001b[0m \u001b[39mThis is only relevant in ABI mode.\"\"\"\u001b[39;00m\n\u001b[1;32m     44\u001b[0m \u001b[39mif\u001b[39;00m r_home \u001b[39mis\u001b[39;00m \u001b[39mNone\u001b[39;00m:\n\u001b[0;32m---> 45\u001b[0m     \u001b[39mraise\u001b[39;00m \u001b[39mValueError\u001b[39;00m(\u001b[39m'\u001b[39m\u001b[39mr_home is None. \u001b[39m\u001b[39m'\u001b[39m\n\u001b[1;32m     46\u001b[0m                      \u001b[39m'\u001b[39m\u001b[39mTry python -m rpy2.situation\u001b[39m\u001b[39m'\u001b[39m)\n\u001b[1;32m     47\u001b[0m lib_path \u001b[39m=\u001b[39m rpy2\u001b[39m.\u001b[39msituation\u001b[39m.\u001b[39mget_rlib_path(r_home, platform\u001b[39m.\u001b[39msystem())\n\u001b[1;32m     48\u001b[0m \u001b[39mif\u001b[39;00m lib_path \u001b[39mis\u001b[39;00m \u001b[39mNone\u001b[39;00m:\n",
      "\u001b[0;31mValueError\u001b[0m: r_home is None. Try python -m rpy2.situation"
     ]
    }
   ],
   "source": [
    "import iscan\n",
    "import numpy as np\n",
    "\n",
    "n = 500\n",
    "d, s0, graph_type = 20, 80, \"ER\"\n",
    "noise_type, noise_std = \"Gaussian\", .5"
   ]
  },
  {
   "cell_type": "markdown",
   "id": "61cf96f9",
   "metadata": {},
   "source": [
    "## Test iSCAN"
   ]
  },
  {
   "cell_type": "code",
   "execution_count": 3,
   "id": "7f6599e8",
   "metadata": {},
   "outputs": [
    {
     "name": "stdout",
     "output_type": "stream",
     "text": [
      "l: 19 HX = 0.5438994128826208 HY = 0.6346367259964754 HA = 0.5959064932278599\n",
      "l: 18 HX = 0.7871656514101877 HY = 0.22996093874037726 HA = 0.40278005112767\n",
      "l: 14 HX = 1.2278162335544884 HY = 0.8085549216247698 HA = 0.6880268725442684\n",
      "l: 13 HX = 1.5808632950871893 HY = 0.000859068346037425 HA = 0.2304820775317689\n",
      "l: 17 HX = 2.20838399507195 HY = 0.0019824406467731366 HA = 0.4196233683190455\n",
      "l: 12 HX = 2.9785278337494794 HY = 1.494285544790912 HA = 1.3880227384522754\n",
      "l: 11 HX = 2.947339626129353 HY = 0.008247006185815548 HA = 0.382958490348792\n",
      "l: 15 HX = 2.686853271262641 HY = 0.4015597119638262 HA = 0.7208642591355556\n",
      "l: 9 HX = 3.3831341813472693 HY = 1.128610786139152 HA = 1.9104655645214474\n",
      "l: 8 HX = 8.992687299998993 HY = 6.292768759691696 HA = 5.457109018088983\n",
      "l: 6 HX = 9.322686953539709 HY = 7.058423420377615 HA = 6.142362917621289\n",
      "l: 10 HX = 10.525498904678802 HY = 6.785677861312918 HA = 6.619281214878234\n",
      "l: 16 HX = 11.468307374293664 HY = 0.11000416446873734 HA = 2.5436320276274205\n",
      "l: 7 HX = 10.830006103727145 HY = 10.615370176266834 HA = 8.728229714890546\n",
      "l: 1 HX = 7.604608729302605 HY = 9.162358429470745 HA = 4.843058556812342\n",
      "l: 3 HX = 6.42035449363538 HY = 7.743198200352503 HA = 4.033857695766044\n",
      "l: 5 HX = 7.098179672832179 HY = 5.945279125582116 HA = 4.945679341115732\n",
      "l: 2 HX = 5.170687135494772 HY = 6.7557978021615765 HA = 2.9260895748256885\n",
      "l: 4 HX = 11.455949477602253 HY = 4.083220501201716 HA = 4.30269984084615\n"
     ]
    },
    {
     "data": {
      "text/plain": [
       "(array([16, 13, 11, 17]),\n",
       " [13, 17, 11, 16],\n",
       " {13: array(268.29306259),\n",
       "  17: array(211.670079),\n",
       "  11: array(46.43606197),\n",
       "  16: array(23.12305211),\n",
       "  15: array(1.79516081),\n",
       "  18: array(1.75151508),\n",
       "  9: array(1.69275856),\n",
       "  19: array(1.09561893),\n",
       "  4: array(1.05375153),\n",
       "  10: array(0.97547826),\n",
       "  12: array(0.92888722),\n",
       "  6: array(0.87021741),\n",
       "  8: array(0.86720317),\n",
       "  14: array(0.850934),\n",
       "  5: array(0.83186664),\n",
       "  7: array(0.82222566),\n",
       "  1: array(0.63685835),\n",
       "  3: array(0.62829205),\n",
       "  2: array(0.56589956)},\n",
       " [0, 4, 2, 5, 3, 1, 7, 16, 10, 6, 8, 9, 15, 11, 12, 17, 13, 14, 18, 19])"
      ]
     },
     "execution_count": 3,
     "metadata": {},
     "output_type": "execute_result"
    }
   ],
   "source": [
    "generator = iscan.DataGenerator(d, s0, graph_type, noise_std=0.5)\n",
    "X, Y = generator.sample(1000, int(.2 * d), change_struct=False)\n",
    "predict_shifted_nodes, order, ratio_dict = iscan.est_node_shifts(X, Y, eta_G=0.001, eta_H=0.001)\n",
    "iscan.nodes_metrics(generator.shifted_nodes, predict_shifted_nodes, d)"
   ]
  },
  {
   "cell_type": "markdown",
   "id": "28749d22",
   "metadata": {},
   "source": [
    "## Test iSCAN_foci"
   ]
  },
  {
   "cell_type": "code",
   "execution_count": 34,
   "id": "410f3698",
   "metadata": {},
   "outputs": [
    {
     "name": "stdout",
     "output_type": "stream",
     "text": [
      "Precision is 1.0, recall score is 1.0, and F1 score is 1.0\n"
     ]
    }
   ],
   "source": [
    "generator = iscan.DataGenerator(d, s0, graph_type, noise_std=0.5)\n",
    "X, Y = generator.sample(1000, int(.2 * d), change_struct=False)\n",
    "predict_shifted_nodes, order, ratio_dict = iscan.est_node_shifts(X, Y, eta_G=0.001, eta_H=0.001)\n",
    "iscan.nodes_metrics(generator.shifted_nodes, predict_shifted_nodes, d)"
   ]
  },
  {
   "cell_type": "code",
   "execution_count": 35,
   "id": "df337a22",
   "metadata": {},
   "outputs": [],
   "source": [
    "true_ddag = np.abs(generator.adj_X - generator.adj_Y, dtype=int)\n",
    "est_ddag = iscan.est_struct_shifts(X, Y, predict_shifted_nodes, order)\n",
    "iscan.ddag_metrics(true_ddag, est_ddag)"
   ]
  }
 ],
 "metadata": {
  "kernelspec": {
   "display_name": "Python 3",
   "language": "python",
   "name": "python3"
  },
  "language_info": {
   "codemirror_mode": {
    "name": "ipython",
    "version": 3
   },
   "file_extension": ".py",
   "mimetype": "text/x-python",
   "name": "python",
   "nbconvert_exporter": "python",
   "pygments_lexer": "ipython3",
   "version": "3.8.16"
  }
 },
 "nbformat": 4,
 "nbformat_minor": 5
}
